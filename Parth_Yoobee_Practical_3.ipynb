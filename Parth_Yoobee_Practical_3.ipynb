{
  "nbformat": 4,
  "nbformat_minor": 0,
  "metadata": {
    "colab": {
      "provenance": [],
      "authorship_tag": "ABX9TyNuG7KUkvNBynSbKe+qlOsC",
      "include_colab_link": true
    },
    "kernelspec": {
      "name": "python3",
      "display_name": "Python 3"
    },
    "language_info": {
      "name": "python"
    }
  },
  "cells": [
    {
      "cell_type": "markdown",
      "metadata": {
        "id": "view-in-github",
        "colab_type": "text"
      },
      "source": [
        "<a href=\"https://colab.research.google.com/github/parthshah1282/Parth-Yoobee-Practical-1/blob/main/Parth_Yoobee_Practical_3.ipynb\" target=\"_parent\"><img src=\"https://colab.research.google.com/assets/colab-badge.svg\" alt=\"Open In Colab\"/></a>"
      ]
    },
    {
      "cell_type": "code",
      "source": [
        "def calculate_factorial(x):\n",
        "    result = 1\n",
        "    for i in range(1, x + 1):\n",
        "        result = result * i\n",
        "    return result\n",
        "number = 10\n",
        "print(\"Factorial of\", number, \"is\", calculate_factorial(number))"
      ],
      "metadata": {
        "colab": {
          "base_uri": "https://localhost:8080/"
        },
        "id": "hYhFfK5ou82I",
        "outputId": "fdb3e107-645b-48f9-db77-39db3bffe1cf"
      },
      "execution_count": null,
      "outputs": [
        {
          "output_type": "stream",
          "name": "stdout",
          "text": [
            "Factorial of 10 is 3628800\n"
          ]
        }
      ]
    },
    {
      "cell_type": "code",
      "source": [
        "class Factorial:\n",
        "    def calculate(self, number):\n",
        "        result = 1\n",
        "        for i in range(1, number + 1):\n",
        "            result = result * i\n",
        "        return result\n",
        "number = 10\n",
        "fact = Factorial()\n",
        "print(f\"Factorial of {number} is {fact.calculate(number)}\")"
      ],
      "metadata": {
        "id": "TyIPQsx0yZVf",
        "colab": {
          "base_uri": "https://localhost:8080/"
        },
        "outputId": "158c58fb-d2f9-4e42-cbd7-612b80715c21"
      },
      "execution_count": 9,
      "outputs": [
        {
          "output_type": "stream",
          "name": "stdout",
          "text": [
            "Factorial of 10 is 3628800\n"
          ]
        }
      ]
    },
    {
      "cell_type": "code",
      "source": [
        "class MathOperations:\n",
        "    def calculate_factorial(self, number):\n",
        "        result = 1\n",
        "        for i in range(1, number + 1):\n",
        "            result = result * i\n",
        "        return result\n",
        "    def is_prime(self, number):\n",
        "        if number <= 1:\n",
        "            return False\n",
        "        for i in range(2, int(number ** 0.5) + 1):\n",
        "            if number % i == 0:\n",
        "                return False\n",
        "        return True\n",
        "number = int(input(\"Enter a number: \"))\n",
        "math_operations = MathOperations()\n",
        "factorial_result = math_operations.calculate_factorial(number)\n",
        "print(f\"Factorial of {number} is {factorial_result}\")\n",
        "if math_operations.is_prime(number):\n",
        "    print(f\"{number} is a prime number.\")\n",
        "else:\n",
        "    print(f\"{number} is not a prime number.\")"
      ],
      "metadata": {
        "colab": {
          "base_uri": "https://localhost:8080/"
        },
        "id": "SdcbHA87jzAU",
        "outputId": "a6fd447b-9b90-4ac2-eddb-9e938177c7e6"
      },
      "execution_count": 12,
      "outputs": [
        {
          "output_type": "stream",
          "name": "stdout",
          "text": [
            "Enter a number: 5\n",
            "Factorial of 5 is 120\n",
            "5 is a prime number.\n"
          ]
        }
      ]
    },
    {
      "cell_type": "code",
      "source": [],
      "metadata": {
        "id": "stneIFMJtbw9"
      },
      "execution_count": 10,
      "outputs": []
    }
  ]
}