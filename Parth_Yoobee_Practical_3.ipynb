{
  "nbformat": 4,
  "nbformat_minor": 0,
  "metadata": {
    "colab": {
      "provenance": [],
      "authorship_tag": "ABX9TyP3J/89/C8bRlDjsviAuvy5",
      "include_colab_link": true
    },
    "kernelspec": {
      "name": "python3",
      "display_name": "Python 3"
    },
    "language_info": {
      "name": "python"
    }
  },
  "cells": [
    {
      "cell_type": "markdown",
      "metadata": {
        "id": "view-in-github",
        "colab_type": "text"
      },
      "source": [
        "<a href=\"https://colab.research.google.com/github/parthshah1282/Parth-Yoobee-Practical-1/blob/main/Parth_Yoobee_Practical_3.ipynb\" target=\"_parent\"><img src=\"https://colab.research.google.com/assets/colab-badge.svg\" alt=\"Open In Colab\"/></a>"
      ]
    },
    {
      "cell_type": "code",
      "source": [
        "def calculate_factorial(x):\n",
        "    result = 1\n",
        "    for i in range(1, x + 1):\n",
        "        result = result * i\n",
        "    return result\n",
        "number = 10\n",
        "print(\"Factorial of\", number, \"is\", calculate_factorial(number))"
      ],
      "metadata": {
        "colab": {
          "base_uri": "https://localhost:8080/"
        },
        "id": "hYhFfK5ou82I",
        "outputId": "fdb3e107-645b-48f9-db77-39db3bffe1cf"
      },
      "execution_count": null,
      "outputs": [
        {
          "output_type": "stream",
          "name": "stdout",
          "text": [
            "Factorial of 10 is 3628800\n"
          ]
        }
      ]
    },
    {
      "cell_type": "code",
      "source": [
        "class Factorial:\n",
        "    def calculate(self, number):\n",
        "        result = 1\n",
        "        for i in range(1, number + 1):\n",
        "            result = result * i\n",
        "        return result\n",
        "number = 10\n",
        "fact = Factorial()\n",
        "print(f\"Factorial of {number} is {fact.calculate(number)}\")"
      ],
      "metadata": {
        "id": "TyIPQsx0yZVf",
        "colab": {
          "base_uri": "https://localhost:8080/"
        },
        "outputId": "cbb02689-c144-4db7-e3b3-e9a6b9e84800"
      },
      "execution_count": 7,
      "outputs": [
        {
          "output_type": "stream",
          "name": "stdout",
          "text": [
            "Factorial of 10 is 3628800\n"
          ]
        }
      ]
    },
    {
      "cell_type": "code",
      "source": [],
      "metadata": {
        "id": "SdcbHA87jzAU"
      },
      "execution_count": null,
      "outputs": []
    }
  ]
}